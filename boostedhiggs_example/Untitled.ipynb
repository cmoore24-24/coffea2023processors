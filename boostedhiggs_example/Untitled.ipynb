{
 "cells": [
  {
   "cell_type": "code",
   "execution_count": 2,
   "id": "02b1dc74-cb87-4042-97d1-939ad807870b",
   "metadata": {},
   "outputs": [],
   "source": [
    "import warnings\n",
    "warnings.filterwarnings('ignore', 'binning')\n",
    "warnings.filterwarnings('ignore', 'JERSF')\n",
    "warnings.filterwarnings('ignore','Port')\n",
    "warnings.filterwarnings('ignore', \"The 'nopython'\")\n",
    "warnings.filterwarnings('ignore', \"Pandas\")\n",
    "warnings.filterwarnings('ignore', \"Schedd\")\n",
    "warnings.filterwarnings('ignore')"
   ]
  },
  {
   "cell_type": "code",
   "execution_count": 3,
   "id": "8ef3824b",
   "metadata": {},
   "outputs": [],
   "source": [
    "from boostedhiggs.hbbprocessor_test import HbbProcessor\n",
    "from boostedhiggs import corrections\n",
    "from coffea.nanoevents import NanoEventsFactory, BaseSchema, PFNanoAODSchema\n",
    "import json\n",
    "import distributed\n",
    "import dask\n",
    "# from distributed import Client\n",
    "# from lpcjobqueue import LPCCondorCluster"
   ]
  },
  {
   "cell_type": "code",
   "execution_count": 3,
   "id": "a569db9e",
   "metadata": {},
   "outputs": [],
   "source": [
    "# cluster = LPCCondorCluster(\n",
    "#    #ship_env=True,\n",
    "#    log_directory='/uscmst1b_scratch/lpc1/3DayLifetime/cjmoore/mylog',\n",
    "#    memory='4718592000'\n",
    "# )\n",
    "# cluster.adapt(minimum=0, maximum=10)\n",
    "# client = Client(cluster)"
   ]
  },
  {
   "cell_type": "code",
   "execution_count": 4,
   "id": "b1036bda",
   "metadata": {},
   "outputs": [],
   "source": [
    "# events = NanoEventsFactory.from_root(\n",
    "#     [{fn: \"/Events\"} for fn in filelist['Hbb']],\n",
    "#     permit_dask=True,\n",
    "# ).events()"
   ]
  },
  {
   "cell_type": "code",
   "execution_count": 5,
   "id": "455bdba0",
   "metadata": {},
   "outputs": [],
   "source": [
    "# from boostedhiggs.hbbprocessor_test import HbbProcessor\n",
    "# from boostedhiggs import corrections\n",
    "# from coffea.nanoevents import NanoEventsFactory, BaseSchema, PFNanoAODSchema\n",
    "# import json"
   ]
  },
  {
   "cell_type": "code",
   "execution_count": 3,
   "id": "49ad98d1",
   "metadata": {},
   "outputs": [],
   "source": [
    "with open(\"jsons/qcd_and_more_hj_files.json\") as fin:\n",
    "    filelist = json.load(fin)"
   ]
  },
  {
   "cell_type": "code",
   "execution_count": 4,
   "id": "80447711",
   "metadata": {},
   "outputs": [],
   "source": [
    "events = NanoEventsFactory.from_root(\n",
    "    {filelist['Hbb'][0]:\"Events\"},\n",
    "    permit_dask=True,\n",
    "    #chunks_per_file=3000,\n",
    "    metadata={\"dataset\": \"Hbb\"},\n",
    ").events()"
   ]
  },
  {
   "cell_type": "code",
   "execution_count": 8,
   "id": "a1b8154c",
   "metadata": {},
   "outputs": [
    {
     "name": "stdout",
     "output_type": "stream",
     "text": [
      "<correctionlib.highlevel.CorrectionSet object at 0x7f6efb7de550>\n"
     ]
    },
    {
     "ename": "NameError",
     "evalue": "name 'events' is not defined",
     "output_type": "error",
     "traceback": [
      "\u001b[0;31m---------------------------------------------------------------------------\u001b[0m",
      "\u001b[0;31mNameError\u001b[0m                                 Traceback (most recent call last)",
      "Cell \u001b[0;32mIn[8], line 1\u001b[0m\n\u001b[0;32m----> 1\u001b[0m result \u001b[38;5;241m=\u001b[39m \u001b[43mHbbProcessor\u001b[49m\u001b[43m(\u001b[49m\u001b[43m)\u001b[49m\u001b[38;5;241m.\u001b[39mprocess(events)\n",
      "File \u001b[0;32m/uscms_data/d3/cjmoore/c23_work/boostedhiggs/boostedhiggs/hbbprocessor_test.py:249\u001b[0m, in \u001b[0;36mHbbProcessor.__init__\u001b[0;34m(self, year, jet_arbitration, tagger, nnlops_rew, skipJER, tightMatch, newTrigger, looseTau, newVjetsKfactor)\u001b[0m\n\u001b[1;32m    246\u001b[0m \u001b[38;5;28mself\u001b[39m\u001b[38;5;241m.\u001b[39m_newTrigger \u001b[38;5;241m=\u001b[39m newTrigger  \u001b[38;5;66;03m# Fewer triggers, new maps (2017 only, ~no effect)\u001b[39;00m\n\u001b[1;32m    247\u001b[0m \u001b[38;5;28mself\u001b[39m\u001b[38;5;241m.\u001b[39m_looseTau \u001b[38;5;241m=\u001b[39m looseTau  \u001b[38;5;66;03m# Looser tau veto\u001b[39;00m\n\u001b[0;32m--> 249\u001b[0m \u001b[38;5;28mself\u001b[39m\u001b[38;5;241m.\u001b[39m_btagSF \u001b[38;5;241m=\u001b[39m \u001b[43mBTagCorrector\u001b[49m\u001b[43m(\u001b[49m\u001b[43myear\u001b[49m\u001b[43m,\u001b[49m\u001b[43m \u001b[49m\u001b[38;5;124;43m'\u001b[39;49m\u001b[38;5;124;43mmedium\u001b[39;49m\u001b[38;5;124;43m'\u001b[39;49m\u001b[43m)\u001b[49m\n\u001b[1;32m    251\u001b[0m \u001b[38;5;28mself\u001b[39m\u001b[38;5;241m.\u001b[39m_msdSF \u001b[38;5;241m=\u001b[39m {\n\u001b[1;32m    252\u001b[0m     \u001b[38;5;124m'\u001b[39m\u001b[38;5;124m2016\u001b[39m\u001b[38;5;124m'\u001b[39m: \u001b[38;5;241m1.\u001b[39m,\n\u001b[1;32m    253\u001b[0m     \u001b[38;5;124m'\u001b[39m\u001b[38;5;124m2017\u001b[39m\u001b[38;5;124m'\u001b[39m: \u001b[38;5;241m0.987\u001b[39m,\n\u001b[1;32m    254\u001b[0m     \u001b[38;5;124m'\u001b[39m\u001b[38;5;124m2018\u001b[39m\u001b[38;5;124m'\u001b[39m: \u001b[38;5;241m0.970\u001b[39m,\n\u001b[1;32m    255\u001b[0m }\n\u001b[1;32m    257\u001b[0m \u001b[38;5;28mself\u001b[39m\u001b[38;5;241m.\u001b[39m_muontriggers \u001b[38;5;241m=\u001b[39m {\n\u001b[1;32m    258\u001b[0m     \u001b[38;5;124m'\u001b[39m\u001b[38;5;124m2016\u001b[39m\u001b[38;5;124m'\u001b[39m: [\n\u001b[1;32m    259\u001b[0m         \u001b[38;5;124m'\u001b[39m\u001b[38;5;124mMu50\u001b[39m\u001b[38;5;124m'\u001b[39m,  \u001b[38;5;66;03m# TODO: check\u001b[39;00m\n\u001b[0;32m   (...)\u001b[0m\n\u001b[1;32m    267\u001b[0m     ],\n\u001b[1;32m    268\u001b[0m }\n",
      "File \u001b[0;32m/uscms_data/d3/cjmoore/c23_work/boostedhiggs/boostedhiggs/btag_test.py:86\u001b[0m, in \u001b[0;36mBTagCorrector.__init__\u001b[0;34m(self, year, workingpoint)\u001b[0m\n\u001b[1;32m     84\u001b[0m btag \u001b[38;5;241m=\u001b[39m correctionlib\u001b[38;5;241m.\u001b[39mCorrectionSet\u001b[38;5;241m.\u001b[39mfrom_file(filename)\n\u001b[1;32m     85\u001b[0m \u001b[38;5;28mprint\u001b[39m(btag)\n\u001b[0;32m---> 86\u001b[0m sf \u001b[38;5;241m=\u001b[39m btag[\u001b[38;5;124m\"\u001b[39m\u001b[38;5;124mdeepJet_incl\u001b[39m\u001b[38;5;124m\"\u001b[39m]\u001b[38;5;241m.\u001b[39mevaluate(\u001b[38;5;124m\"\u001b[39m\u001b[38;5;124mcentral\u001b[39m\u001b[38;5;124m\"\u001b[39m, \u001b[38;5;124m\"\u001b[39m\u001b[38;5;124mM\u001b[39m\u001b[38;5;124m\"\u001b[39m, awkward\u001b[38;5;241m.\u001b[39mArray(\u001b[43mevents\u001b[49m\u001b[38;5;241m.\u001b[39mJet\u001b[38;5;241m.\u001b[39mhadronFlavour), awkward\u001b[38;5;241m.\u001b[39mArray(\u001b[38;5;28mabs\u001b[39m(events\u001b[38;5;241m.\u001b[39mJet\u001b[38;5;241m.\u001b[39meta)), awkward\u001b[38;5;241m.\u001b[39mArray(events\u001b[38;5;241m.\u001b[39mJet\u001b[38;5;241m.\u001b[39mpt))\n\u001b[1;32m     87\u001b[0m abcd\n\u001b[1;32m     88\u001b[0m bpass \u001b[38;5;241m=\u001b[39m btag[\u001b[38;5;124m\"\u001b[39m\u001b[38;5;124mpass\u001b[39m\u001b[38;5;124m\"\u001b[39m, :, :, :]\u001b[38;5;241m.\u001b[39mvalues()\n",
      "\u001b[0;31mNameError\u001b[0m: name 'events' is not defined"
     ]
    }
   ],
   "source": [
    "result = HbbProcessor().process(events)"
   ]
  },
  {
   "cell_type": "code",
   "execution_count": null,
   "id": "482a1c6a-d1ff-4543-b5a3-c400a560338e",
   "metadata": {},
   "outputs": [],
   "source": []
  },
  {
   "cell_type": "code",
   "execution_count": null,
   "id": "03435241-f861-437b-b3d6-afac2e54e902",
   "metadata": {},
   "outputs": [],
   "source": []
  },
  {
   "cell_type": "code",
   "execution_count": 10,
   "id": "507a88a7-7443-4522-9330-089e5cf13c5e",
   "metadata": {},
   "outputs": [],
   "source": [
    "a = list(result['Hbb'].keys())"
   ]
  },
  {
   "cell_type": "code",
   "execution_count": 11,
   "id": "2abb4ff3-8378-48f3-84ad-85397e913a2c",
   "metadata": {},
   "outputs": [],
   "source": [
    "b = list(result['Hbb']['weightStats'].keys())"
   ]
  },
  {
   "cell_type": "code",
   "execution_count": 26,
   "id": "fade75e6-9069-4fbd-83a6-dd124ebdf7d3",
   "metadata": {},
   "outputs": [],
   "source": [
    "bad2 = []\n",
    "for i in range(0,14):\n",
    "    try:\n",
    "        dask.compute(result['Hbb']['weightStats'][b[i]])\n",
    "    except:\n",
    "        bad2.append(b[i])"
   ]
  },
  {
   "cell_type": "code",
   "execution_count": 28,
   "id": "afe5967b-0680-4093-9cb2-0f27c4c8351c",
   "metadata": {},
   "outputs": [
    {
     "data": {
      "text/plain": [
       "14"
      ]
     },
     "execution_count": 28,
     "metadata": {},
     "output_type": "execute_result"
    }
   ],
   "source": [
    "len(bad2)"
   ]
  },
  {
   "cell_type": "code",
   "execution_count": 17,
   "id": "23204bb2-0fe7-454a-995d-d34ea06594e2",
   "metadata": {},
   "outputs": [
    {
     "data": {
      "text/plain": [
       "['genresponse_noweight', 'weightStats']"
      ]
     },
     "execution_count": 17,
     "metadata": {},
     "output_type": "execute_result"
    }
   ],
   "source": [
    "bad"
   ]
  },
  {
   "cell_type": "code",
   "execution_count": 1,
   "id": "1e4583e1-57e6-4f73-a46c-694b0fc55c89",
   "metadata": {},
   "outputs": [],
   "source": [
    "dask.compute(result)"
   ]
  },
  {
   "cell_type": "code",
   "execution_count": 4,
   "id": "f541407d-028e-4471-9eb4-60998d8c0394",
   "metadata": {},
   "outputs": [],
   "source": [
    "from coffea import util"
   ]
  },
  {
   "cell_type": "code",
   "execution_count": 5,
   "id": "bfeb808c-008b-4701-8119-a3542fb8aa27",
   "metadata": {},
   "outputs": [],
   "source": [
    "a = util.load(\"boostedhiggs/data/btagQCD2017.coffea\")"
   ]
  },
  {
   "cell_type": "code",
   "execution_count": 11,
   "id": "12b8a6af-cee7-4155-ad4c-6f1eb4d8a286",
   "metadata": {},
   "outputs": [
    {
     "data": {
      "text/plain": [
       "Hist(\n",
       "  StrCategory(['fail', 'pass'], growth=True, name='btag', label='BTag WP pass/fail'),\n",
       "  Variable([0, 4, 5, 6], name='flavor', label='Jet hadronFlavour'),\n",
       "  Variable([20, 30, 50, 70, 100, 140, 200, 300, 600, 1000], name='pt', label='Jet pT'),\n",
       "  Variable([0, 1.4, 2, 2.5], name='abseta', label='Jet abseta'),\n",
       "  storage=Double()) # Sum: 1391825888.0 (1517075666.0 with flow)"
      ]
     },
     "execution_count": 11,
     "metadata": {},
     "output_type": "execute_result"
    }
   ],
   "source": [
    "a"
   ]
  },
  {
   "cell_type": "code",
   "execution_count": 13,
   "id": "dd2c155e-459a-4c5e-8fec-fe74cb714c0d",
   "metadata": {},
   "outputs": [
    {
     "data": {
      "text/plain": [
       "hist.hist.Hist"
      ]
     },
     "execution_count": 13,
     "metadata": {},
     "output_type": "execute_result"
    }
   ],
   "source": [
    "type(a)"
   ]
  },
  {
   "cell_type": "code",
   "execution_count": null,
   "id": "01febefa-b756-431f-8158-f67c7597e554",
   "metadata": {},
   "outputs": [],
   "source": []
  }
 ],
 "metadata": {
  "kernelspec": {
   "display_name": "Python 3 (ipykernel)",
   "language": "python",
   "name": "python3"
  },
  "language_info": {
   "codemirror_mode": {
    "name": "ipython",
    "version": 3
   },
   "file_extension": ".py",
   "mimetype": "text/x-python",
   "name": "python",
   "nbconvert_exporter": "python",
   "pygments_lexer": "ipython3",
   "version": "3.9.17"
  }
 },
 "nbformat": 4,
 "nbformat_minor": 5
}
